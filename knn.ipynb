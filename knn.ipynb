{
 "cells": [
  {
   "cell_type": "code",
   "execution_count": 1,
   "metadata": {},
   "outputs": [],
   "source": [
    "import pandas\n",
    "from sklearn.model_selection import cross_val_score\n",
    "from sklearn.model_selection import KFold\n",
    "from sklearn.preprocessing import LabelEncoder\n",
    "from sklearn.pipeline import Pipeline"
   ]
  },
  {
   "cell_type": "code",
   "execution_count": 2,
   "metadata": {},
   "outputs": [
    {
     "name": "stdout",
     "output_type": "stream",
     "text": [
      "      Male  Female  Infant    Length  Diameter    Height  Whole_weight  \\\n",
      "0      1.0     0.0     0.0  0.455000  0.365000  0.095000      0.514000   \n",
      "1      1.0     0.0     0.0  0.350000  0.265000  0.090000      0.225500   \n",
      "2      0.0     1.0     0.0  0.530000  0.420000  0.135000      0.677000   \n",
      "3      1.0     0.0     0.0  0.440000  0.365000  0.125000      0.516000   \n",
      "4      0.0     0.0     1.0  0.330000  0.255000  0.080000      0.205000   \n",
      "5      0.0     0.0     1.0  0.425000  0.300000  0.095000      0.351500   \n",
      "6      0.0     1.0     0.0  0.530000  0.415000  0.150000      0.777500   \n",
      "7      0.0     1.0     0.0  0.545000  0.425000  0.125000      0.768000   \n",
      "8      1.0     0.0     0.0  0.475000  0.370000  0.125000      0.509500   \n",
      "9      0.0     1.0     0.0  0.550000  0.440000  0.172656      0.894500   \n",
      "10     0.0     1.0     0.0  0.525000  0.385156  0.140000      0.606500   \n",
      "11     1.0     0.0     0.0  0.430000  0.350000  0.110000      0.406000   \n",
      "12     1.0     0.0     0.0  0.490000  0.380000  0.135000      0.541500   \n",
      "13     0.0     1.0     0.0  0.535000  0.407500  0.145000      0.684500   \n",
      "14     0.0     1.0     0.0  0.470000  0.355000  0.100000      0.475500   \n",
      "15     1.0     0.0     0.0  0.512969  0.400000  0.130000      0.664500   \n",
      "16     0.0     0.0     1.0  0.355000  0.280000  0.085000      0.290500   \n",
      "17     0.0     1.0     0.0  0.440000  0.340000  0.100000      0.451000   \n",
      "18     1.0     0.0     0.0  0.377031  0.295000  0.080000      0.255500   \n",
      "19     1.0     0.0     0.0  0.450000  0.320000  0.100000      0.381000   \n",
      "20     1.0     0.0     0.0  0.370781  0.280000  0.095000      0.245500   \n",
      "21     0.0     0.0     1.0  0.380000  0.275000  0.100000      0.225500   \n",
      "22     0.0     1.0     0.0  0.565000  0.440000  0.155000      0.939500   \n",
      "23     0.0     1.0     0.0  0.550000  0.415000  0.140000      0.763500   \n",
      "24     0.0     1.0     0.0  0.615000  0.480000  0.165000      1.161500   \n",
      "25     0.0     1.0     0.0  0.560000  0.440000  0.140000      0.928500   \n",
      "26     0.0     1.0     0.0  0.588750  0.450000  0.185000      1.038563   \n",
      "27     1.0     0.0     0.0  0.590000  0.445000  0.140000      0.959391   \n",
      "28     1.0     0.0     0.0  0.605000  0.445156  0.180000      0.936500   \n",
      "29     1.0     0.0     0.0  0.575000  0.425000  0.140000      0.863500   \n",
      "...    ...     ...     ...       ...       ...       ...           ...   \n",
      "4147   1.0     0.0     0.0  0.695000  0.550000  0.195000      1.664500   \n",
      "4148   1.0     0.0     0.0  0.770000  0.605000  0.175000      2.050500   \n",
      "4149   0.0     0.0     1.0  0.280000  0.215000  0.070000      0.124000   \n",
      "4150   0.0     0.0     1.0  0.330000  0.230000  0.080000      0.140000   \n",
      "4151   0.0     0.0     1.0  0.350000  0.250000  0.075000      0.169500   \n",
      "4152   0.0     0.0     1.0  0.370000  0.277656  0.090000      0.218000   \n",
      "4153   0.0     0.0     1.0  0.430000  0.315000  0.115000      0.384000   \n",
      "4154   0.0     0.0     1.0  0.424687  0.330000  0.095000      0.393000   \n",
      "4155   0.0     0.0     1.0  0.440000  0.350000  0.110000      0.380500   \n",
      "4156   1.0     0.0     0.0  0.475000  0.370000  0.110000      0.489500   \n",
      "4157   1.0     0.0     0.0  0.474844  0.360000  0.140000      0.513500   \n",
      "4158   0.0     0.0     1.0  0.480000  0.355000  0.110000      0.449500   \n",
      "4159   0.0     1.0     0.0  0.560000  0.440000  0.135000      0.802500   \n",
      "4160   0.0     1.0     0.0  0.585000  0.475000  0.165000      1.053000   \n",
      "4161   0.0     1.0     0.0  0.585000  0.455000  0.170000      0.994500   \n",
      "4162   1.0     0.0     0.0  0.385000  0.255000  0.100000      0.317500   \n",
      "4163   0.0     0.0     1.0  0.390000  0.310000  0.085000      0.344000   \n",
      "4164   0.0     0.0     1.0  0.390000  0.290000  0.100000      0.284500   \n",
      "4165   0.0     0.0     1.0  0.405000  0.300000  0.085000      0.303500   \n",
      "4166   0.0     0.0     1.0  0.475000  0.365000  0.115000      0.499000   \n",
      "4167   1.0     0.0     0.0  0.500000  0.380000  0.125000      0.577000   \n",
      "4168   0.0     1.0     0.0  0.515000  0.393281  0.125000      0.615000   \n",
      "4169   1.0     0.0     0.0  0.520000  0.385000  0.165000      0.791000   \n",
      "4170   1.0     0.0     0.0  0.550000  0.430000  0.130000      0.839500   \n",
      "4171   1.0     0.0     0.0  0.560000  0.430000  0.155000      0.867500   \n",
      "4172   0.0     1.0     0.0  0.565000  0.450000  0.165000      0.887000   \n",
      "4173   1.0     0.0     0.0  0.590000  0.440000  0.148281      0.966000   \n",
      "4174   1.0     0.0     0.0  0.600000  0.475000  0.205000      1.176000   \n",
      "4175   0.0     1.0     0.0  0.625000  0.485000  0.150000      1.094500   \n",
      "4176   1.0     0.0     0.0  0.710000  0.555000  0.195000      1.948500   \n",
      "\n",
      "      Shucked_weight  Viscera_weight  Shell_weight  \n",
      "0           0.224500        0.101000      0.150000  \n",
      "1           0.099500        0.048500      0.070000  \n",
      "2           0.256500        0.141500      0.210000  \n",
      "3           0.215500        0.114000      0.155000  \n",
      "4           0.089500        0.039500      0.055000  \n",
      "5           0.141000        0.077500      0.120000  \n",
      "6           0.237000        0.141500      0.330000  \n",
      "7           0.294000        0.149500      0.260000  \n",
      "8           0.216500        0.112500      0.165000  \n",
      "9           0.314500        0.151000      0.320000  \n",
      "10          0.194000        0.147500      0.210000  \n",
      "11          0.167500        0.081000      0.135000  \n",
      "12          0.217500        0.095000      0.190000  \n",
      "13          0.272500        0.171000      0.205000  \n",
      "14          0.167500        0.104594      0.185000  \n",
      "15          0.258000        0.133000      0.240000  \n",
      "16          0.095000        0.039500      0.115000  \n",
      "17          0.188000        0.087000      0.130000  \n",
      "18          0.097000        0.058891      0.100000  \n",
      "19          0.170500        0.075000      0.115000  \n",
      "20          0.095500        0.062000      0.075000  \n",
      "21          0.080000        0.049000      0.085000  \n",
      "22          0.427500        0.214000      0.270000  \n",
      "23          0.318000        0.210000      0.200000  \n",
      "24          0.513000        0.301000      0.305000  \n",
      "25          0.382500        0.188000      0.300000  \n",
      "26          0.394500        0.272000      0.285000  \n",
      "27          0.356000        0.234000      0.280000  \n",
      "28          0.394000        0.219000      0.295000  \n",
      "29          0.393000        0.227000      0.200000  \n",
      "...              ...             ...           ...  \n",
      "4147        0.727000        0.360000      0.445000  \n",
      "4148        0.800500        0.526000      0.355000  \n",
      "4149        0.063000        0.021500      0.030000  \n",
      "4150        0.056500        0.035828      0.046000  \n",
      "4151        0.083500        0.035500      0.041000  \n",
      "4152        0.099500        0.054500      0.061500  \n",
      "4153        0.188500        0.071500      0.110000  \n",
      "4154        0.219000        0.075000      0.088500  \n",
      "4155        0.157500        0.089500      0.115000  \n",
      "4156        0.218500        0.107000      0.146000  \n",
      "4157        0.241000        0.104500      0.155000  \n",
      "4158        0.201000        0.089000      0.132297  \n",
      "4159        0.365906        0.161500      0.259000  \n",
      "4160        0.458000        0.217000      0.300000  \n",
      "4161        0.425500        0.263000      0.284500  \n",
      "4162        0.137000        0.068000      0.092000  \n",
      "4163        0.181000        0.069500      0.079000  \n",
      "4164        0.125500        0.063500      0.081000  \n",
      "4165        0.150000        0.050500      0.088000  \n",
      "4166        0.232000        0.088500      0.156000  \n",
      "4167        0.262234        0.126500      0.164813  \n",
      "4168        0.286500        0.123000      0.184891  \n",
      "4169        0.375000        0.180000      0.181500  \n",
      "4170        0.315500        0.186328      0.240500  \n",
      "4171        0.400000        0.172000      0.229000  \n",
      "4172        0.370000        0.239000      0.263078  \n",
      "4173        0.439000        0.214500      0.260500  \n",
      "4174        0.525500        0.287500      0.308000  \n",
      "4175        0.531000        0.261000      0.296000  \n",
      "4176        0.945500        0.401859      0.495000  \n",
      "\n",
      "[4177 rows x 10 columns]\n",
      "0       3.0\n",
      "1       2.0\n",
      "2       2.0\n",
      "3       2.0\n",
      "4       2.0\n",
      "5       2.0\n",
      "6       4.0\n",
      "7       3.0\n",
      "8       2.0\n",
      "9       4.0\n",
      "10      3.0\n",
      "11      2.0\n",
      "12      2.0\n",
      "13      2.0\n",
      "14      2.0\n",
      "15      2.0\n",
      "16      2.0\n",
      "17      2.0\n",
      "18      2.0\n",
      "19      2.0\n",
      "20      2.0\n",
      "21      2.0\n",
      "22      2.0\n",
      "23      2.0\n",
      "24      2.0\n",
      "25      2.0\n",
      "26      2.0\n",
      "27      2.0\n",
      "28      3.0\n",
      "29      2.0\n",
      "       ... \n",
      "4147    2.0\n",
      "4148    2.0\n",
      "4149    1.0\n",
      "4150    2.0\n",
      "4151    1.0\n",
      "4152    2.0\n",
      "4153    2.0\n",
      "4154    1.0\n",
      "4155    1.0\n",
      "4156    2.0\n",
      "4157    2.0\n",
      "4158    2.0\n",
      "4159    2.0\n",
      "4160    2.0\n",
      "4161    2.0\n",
      "4162    2.0\n",
      "4163    2.0\n",
      "4164    2.0\n",
      "4165    2.0\n",
      "4166    2.0\n",
      "4167    2.0\n",
      "4168    2.0\n",
      "4169    2.0\n",
      "4170    2.0\n",
      "4171    2.0\n",
      "4172    2.0\n",
      "4173    2.0\n",
      "4174    2.0\n",
      "4175    2.0\n",
      "4176    2.0\n",
      "Name: Rings, Length: 4177, dtype: float64\n"
     ]
    }
   ],
   "source": [
    "data = pandas.read_csv(\"knn_data.csv\")\n",
    "cl=data.columns\n",
    "X=data[cl[1:len(cl)-1]]\n",
    "y=data['Rings']\n",
    "print(X)\n",
    "print(y)"
   ]
  },
  {
   "cell_type": "code",
   "execution_count": 3,
   "metadata": {},
   "outputs": [
    {
     "name": "stdout",
     "output_type": "stream",
     "text": [
      "0.7719298245614035\n",
      "[[ 82  65   0   0]\n",
      " [ 22 882   1   0]\n",
      " [  1 169   4   0]\n",
      " [  0  26   2   0]]\n"
     ]
    }
   ],
   "source": [
    "from sklearn.metrics import confusion_matrix \n",
    "from sklearn.model_selection import train_test_split\n",
    "from sklearn import model_selection\n",
    "\n",
    "# dividing X, y into train and test data \n",
    "X_train, X_test, y_train, y_test = train_test_split(X, y,  train_size=0.7, test_size=0.3, random_state=123) \n",
    "  \n",
    "# training a linear SVM classifier \n",
    "from sklearn.svm import SVC \n",
    "svm_model_linear = SVC(kernel = 'linear', C = 1).fit(X_train, y_train) \n",
    "svm_predictions = svm_model_linear.predict(X_test) \n",
    "  \n",
    "# model accuracy for X_test   \n",
    "accuracy = svm_model_linear.score(X_test, y_test) \n",
    "print(accuracy)  \n",
    "# creating a confusion matrix \n",
    "cm = confusion_matrix(y_test, svm_predictions) \n",
    "print(cm)\n"
   ]
  },
  {
   "cell_type": "code",
   "execution_count": 4,
   "metadata": {},
   "outputs": [
    {
     "name": "stdout",
     "output_type": "stream",
     "text": [
      "0.7727272727272727\n",
      "[[ 88  59   0   0]\n",
      " [ 24 881   0   0]\n",
      " [  1 173   0   0]\n",
      " [  0  28   0   0]]\n"
     ]
    }
   ],
   "source": [
    "from sklearn.tree import DecisionTreeClassifier \n",
    "dtree_model = DecisionTreeClassifier(max_depth = 2).fit(X_train, y_train) \n",
    "dtree_predictions = dtree_model.predict(X_test) \n",
    "accuracy = dtree_model.score(X_test, y_test) \n",
    "print(accuracy)\n",
    "# creating a confusion matrix \n",
    "cm = confusion_matrix(y_test, dtree_predictions) \n",
    "print(cm)"
   ]
  },
  {
   "cell_type": "code",
   "execution_count": 5,
   "metadata": {},
   "outputs": [
    {
     "name": "stdout",
     "output_type": "stream",
     "text": [
      "0.7767145135566188\n",
      "[[ 80  67   0   0]\n",
      " [ 26 862  17   0]\n",
      " [  0 142  32   0]\n",
      " [  0  18  10   0]]\n"
     ]
    }
   ],
   "source": [
    "# training a KNN classifier \n",
    "from sklearn.neighbors import KNeighborsClassifier \n",
    "knn = KNeighborsClassifier(n_neighbors = 15).fit(X_train, y_train) \n",
    "  \n",
    "# accuracy on X_test \n",
    "accuracy = knn.score(X_test, y_test) \n",
    "print(accuracy) \n",
    "  \n",
    "# creating a confusion matrix \n",
    "knn_predictions = knn.predict(X_test)  \n",
    "cm = confusion_matrix(y_test, knn_predictions) \n",
    "print(cm)"
   ]
  },
  {
   "cell_type": "code",
   "execution_count": 6,
   "metadata": {},
   "outputs": [
    {
     "name": "stdout",
     "output_type": "stream",
     "text": [
      "0.43779904306220097\n",
      "[[137   9   0   0   1]\n",
      " [165 406  27   0 307]\n",
      " [  3  81   6   0  84]\n",
      " [  0   7   0   0  21]\n",
      " [  0   0   0   0   0]]\n"
     ]
    }
   ],
   "source": [
    "# training a Naive Bayes classifier \n",
    "from sklearn.naive_bayes import GaussianNB \n",
    "gnb = GaussianNB().fit(X_train, y_train) \n",
    "gnb_predictions = gnb.predict(X_test) \n",
    "  \n",
    "# accuracy on X_test \n",
    "accuracy = gnb.score(X_test, y_test) \n",
    "print(accuracy) \n",
    "  \n",
    "# creating a confusion matrix \n",
    "cm = confusion_matrix(y_test, gnb_predictions) \n",
    "print(cm)"
   ]
  },
  {
   "cell_type": "code",
   "execution_count": 7,
   "metadata": {},
   "outputs": [],
   "source": [
    "from sklearn.ensemble import AdaBoostClassifier\n",
    "from sklearn import datasets\n",
    "# Import train_test_split function\n",
    "from sklearn.model_selection import train_test_split\n",
    "#Import scikit-learn metrics module for accuracy calculation\n",
    "from sklearn import metrics"
   ]
  },
  {
   "cell_type": "code",
   "execution_count": 8,
   "metadata": {},
   "outputs": [],
   "source": [
    "# Create adaboost classifer object\n",
    "abc = AdaBoostClassifier(n_estimators=50,\n",
    "                         learning_rate=1)\n",
    "# Train Adaboost Classifer\n",
    "model = abc.fit(X_train, y_train)\n",
    "\n",
    "#Predict the response for test dataset\n",
    "y_pred = model.predict(X_test)"
   ]
  },
  {
   "cell_type": "code",
   "execution_count": 9,
   "metadata": {},
   "outputs": [
    {
     "name": "stdout",
     "output_type": "stream",
     "text": [
      "Accuracy: 0.5542264752791068\n"
     ]
    }
   ],
   "source": [
    "print(\"Accuracy:\",metrics.accuracy_score(y_test, y_pred))"
   ]
  },
  {
   "cell_type": "code",
   "execution_count": 10,
   "metadata": {},
   "outputs": [
    {
     "name": "stdout",
     "output_type": "stream",
     "text": [
      "Accuracy: 0.7216905901116427\n"
     ]
    }
   ],
   "source": [
    "# Load libraries\n",
    "from sklearn.ensemble import AdaBoostClassifier\n",
    "\n",
    "# Import Support Vector Classifier\n",
    "from sklearn.svm import SVC\n",
    "#Import scikit-learn metrics module for accuracy calculation\n",
    "from sklearn import metrics\n",
    "svc=SVC(probability=True, kernel='linear')\n",
    "\n",
    "# Create adaboost classifer object\n",
    "abc =AdaBoostClassifier(n_estimators=50, base_estimator=svc,learning_rate=1)\n",
    "\n",
    "# Train Adaboost Classifer\n",
    "model = abc.fit(X_train, y_train)\n",
    "\n",
    "#Predict the response for test dataset\n",
    "y_pred = model.predict(X_test)\n",
    "\n",
    "\n",
    "# Model Accuracy, how often is the classifier correct?\n",
    "print(\"Accuracy:\",metrics.accuracy_score(y_test, y_pred))"
   ]
  },
  {
   "cell_type": "code",
   "execution_count": 11,
   "metadata": {},
   "outputs": [
    {
     "name": "stdout",
     "output_type": "stream",
     "text": [
      "[1. 2. 3. 4. 5.]\n"
     ]
    }
   ],
   "source": [
    "import numpy as np\n",
    "print(np.unique(y))\n",
    "#One Hot Encode our Y:\n",
    "from sklearn.preprocessing import LabelBinarizer\n",
    "encoder = LabelBinarizer()\n",
    "Y = encoder.fit_transform(y_train)\n"
   ]
  },
  {
   "cell_type": "code",
   "execution_count": 12,
   "metadata": {},
   "outputs": [
    {
     "name": "stderr",
     "output_type": "stream",
     "text": [
      "C:\\ProgramData\\Anaconda3\\lib\\site-packages\\sklearn\\svm\\base.py:196: FutureWarning: The default value of gamma will change from 'auto' to 'scale' in version 0.22 to account better for unscaled features. Set gamma explicitly to 'auto' or 'scale' to avoid this warning.\n",
      "  \"avoid this warning.\", FutureWarning)\n"
     ]
    },
    {
     "name": "stdout",
     "output_type": "stream",
     "text": [
      "[[  0 147   0   0]\n",
      " [  0 905   0   0]\n",
      " [  0 174   0   0]\n",
      " [  0  28   0   0]]\n",
      "              precision    recall  f1-score   support\n",
      "\n",
      "         1.0       0.00      0.00      0.00       147\n",
      "         2.0       0.72      1.00      0.84       905\n",
      "         3.0       0.00      0.00      0.00       174\n",
      "         4.0       0.00      0.00      0.00        28\n",
      "\n",
      "   micro avg       0.72      0.72      0.72      1254\n",
      "   macro avg       0.18      0.25      0.21      1254\n",
      "weighted avg       0.52      0.72      0.61      1254\n",
      "\n"
     ]
    },
    {
     "name": "stderr",
     "output_type": "stream",
     "text": [
      "C:\\ProgramData\\Anaconda3\\lib\\site-packages\\sklearn\\metrics\\classification.py:1143: UndefinedMetricWarning: Precision and F-score are ill-defined and being set to 0.0 in labels with no predicted samples.\n",
      "  'precision', 'predicted', average, warn_for)\n"
     ]
    }
   ],
   "source": [
    "from sklearn.svm import SVC\n",
    "svclassifier = SVC(kernel='poly', degree=8)\n",
    "svclassifier.fit(X_train, y_train)\n",
    "y_pred = svclassifier.predict(X_test)\n",
    "from sklearn.metrics import classification_report, confusion_matrix\n",
    "print(confusion_matrix(y_test, y_pred))\n",
    "print(classification_report(y_test, y_pred))"
   ]
  },
  {
   "cell_type": "code",
   "execution_count": 13,
   "metadata": {},
   "outputs": [
    {
     "name": "stderr",
     "output_type": "stream",
     "text": [
      "C:\\ProgramData\\Anaconda3\\lib\\site-packages\\sklearn\\svm\\base.py:196: FutureWarning: The default value of gamma will change from 'auto' to 'scale' in version 0.22 to account better for unscaled features. Set gamma explicitly to 'auto' or 'scale' to avoid this warning.\n",
      "  \"avoid this warning.\", FutureWarning)\n"
     ]
    },
    {
     "name": "stdout",
     "output_type": "stream",
     "text": [
      "[[ 75  72   0   0]\n",
      " [ 20 885   0   0]\n",
      " [  1 173   0   0]\n",
      " [  0  28   0   0]]\n",
      "              precision    recall  f1-score   support\n",
      "\n",
      "         1.0       0.78      0.51      0.62       147\n",
      "         2.0       0.76      0.98      0.86       905\n",
      "         3.0       0.00      0.00      0.00       174\n",
      "         4.0       0.00      0.00      0.00        28\n",
      "\n",
      "   micro avg       0.77      0.77      0.77      1254\n",
      "   macro avg       0.39      0.37      0.37      1254\n",
      "weighted avg       0.64      0.77      0.69      1254\n",
      "\n",
      "0.7655502392344498\n"
     ]
    },
    {
     "name": "stderr",
     "output_type": "stream",
     "text": [
      "C:\\ProgramData\\Anaconda3\\lib\\site-packages\\sklearn\\metrics\\classification.py:1143: UndefinedMetricWarning: Precision and F-score are ill-defined and being set to 0.0 in labels with no predicted samples.\n",
      "  'precision', 'predicted', average, warn_for)\n"
     ]
    }
   ],
   "source": [
    "from sklearn.svm import SVC\n",
    "svclassifier = SVC(kernel='rbf')\n",
    "svclassifier.fit(X_train, y_train)\n",
    "y_pred = svclassifier.predict(X_test)\n",
    "from sklearn.metrics import classification_report, confusion_matrix\n",
    "print(confusion_matrix(y_test, y_pred))\n",
    "print(classification_report(y_test, y_pred))\n",
    "accuracy = svclassifier.score(X_test, y_test) \n",
    "print(accuracy)  "
   ]
  },
  {
   "cell_type": "code",
   "execution_count": 14,
   "metadata": {},
   "outputs": [
    {
     "name": "stderr",
     "output_type": "stream",
     "text": [
      "C:\\ProgramData\\Anaconda3\\lib\\site-packages\\sklearn\\svm\\base.py:196: FutureWarning: The default value of gamma will change from 'auto' to 'scale' in version 0.22 to account better for unscaled features. Set gamma explicitly to 'auto' or 'scale' to avoid this warning.\n",
      "  \"avoid this warning.\", FutureWarning)\n"
     ]
    },
    {
     "name": "stdout",
     "output_type": "stream",
     "text": [
      "[[ 73  74   0   0]\n",
      " [ 14 870  21   0]\n",
      " [  0 165   9   0]\n",
      " [  0  24   4   0]]\n",
      "              precision    recall  f1-score   support\n",
      "\n",
      "         1.0       0.84      0.50      0.62       147\n",
      "         2.0       0.77      0.96      0.85       905\n",
      "         3.0       0.26      0.05      0.09       174\n",
      "         4.0       0.00      0.00      0.00        28\n",
      "\n",
      "   micro avg       0.76      0.76      0.76      1254\n",
      "   macro avg       0.47      0.38      0.39      1254\n",
      "weighted avg       0.69      0.76      0.70      1254\n",
      "\n",
      "0.759170653907496\n"
     ]
    },
    {
     "name": "stderr",
     "output_type": "stream",
     "text": [
      "C:\\ProgramData\\Anaconda3\\lib\\site-packages\\sklearn\\metrics\\classification.py:1143: UndefinedMetricWarning: Precision and F-score are ill-defined and being set to 0.0 in labels with no predicted samples.\n",
      "  'precision', 'predicted', average, warn_for)\n"
     ]
    }
   ],
   "source": [
    "from sklearn.svm import SVC\n",
    "svclassifier = SVC(kernel='sigmoid')\n",
    "svclassifier.fit(X_train, y_train)\n",
    "y_pred = svclassifier.predict(X_test)\n",
    "from sklearn.metrics import classification_report, confusion_matrix\n",
    "print(confusion_matrix(y_test, y_pred))\n",
    "print(classification_report(y_test, y_pred))\n",
    "accuracy = svclassifier.score(X_test, y_test) \n",
    "print(accuracy)  "
   ]
  },
  {
   "cell_type": "code",
   "execution_count": 15,
   "metadata": {},
   "outputs": [
    {
     "name": "stderr",
     "output_type": "stream",
     "text": [
      "C:\\ProgramData\\Anaconda3\\lib\\site-packages\\sklearn\\multiclass.py:76: UserWarning: Label not 4 is present in all training examples.\n",
      "  str(classes[c]))\n"
     ]
    }
   ],
   "source": [
    "import numpy as np\n",
    "import matplotlib.pyplot as plt\n",
    "from itertools import cycle\n",
    "\n",
    "from sklearn import svm, datasets\n",
    "from sklearn.metrics import roc_curve, auc\n",
    "from sklearn.model_selection import train_test_split\n",
    "from sklearn.preprocessing import label_binarize\n",
    "from sklearn.multiclass import OneVsRestClassifier\n",
    "from scipy import interp\n",
    "\n",
    "# Import some data to play with\n",
    "X=data[cl[1:len(cl)-1]]\n",
    "y=data['Rings']\n",
    "\n",
    "# Binarize the output\n",
    "y = label_binarize(y, classes=[1,2,3,4,5])\n",
    "n_classes = y.shape[1]\n",
    "\n",
    "# Add noisy features to make the problem harder\n",
    "random_state = np.random.RandomState(0)\n",
    "n_samples, n_features = X.shape\n",
    "X = np.c_[X, random_state.randn(n_samples, 200 * n_features)]\n",
    "\n",
    "# shuffle and split training and test sets\n",
    "X_train, X_test, y_train, y_test = train_test_split(X, y, test_size=.5,\n",
    "                                                    random_state=0)\n",
    "\n",
    "# Learn to predict each class against the other\n",
    "classifier = OneVsRestClassifier(svm.SVC(kernel='linear', probability=True,\n",
    "                                 random_state=random_state))\n",
    "y_score = classifier.fit(X_train, y_train).decision_function(X_test)\n",
    "\n",
    "# Compute ROC curve and ROC area for each class\n",
    "fpr = dict()\n",
    "tpr = dict()\n",
    "roc_auc = dict()\n",
    "for i in range(n_classes):\n",
    "    fpr[i], tpr[i], _ = roc_curve(y_test[:, i], y_score[:, i])\n",
    "    roc_auc[i] = auc(fpr[i], tpr[i])\n",
    "\n",
    "# Compute micro-average ROC curve and ROC area\n",
    "fpr[\"micro\"], tpr[\"micro\"], _ = roc_curve(y_test.ravel(), y_score.ravel())\n",
    "roc_auc[\"micro\"] = auc(fpr[\"micro\"], tpr[\"micro\"])"
   ]
  },
  {
   "cell_type": "code",
   "execution_count": 16,
   "metadata": {},
   "outputs": [
    {
     "data": {
      "image/png": "[encoded data removed]",
      "text/plain": [
       "<Figure size 432x288 with 1 Axes>"
      ]
     },
     "metadata": {
      "needs_background": "light"
     },
     "output_type": "display_data"
    }
   ],
   "source": [
    "# Compute macro-average ROC curve and ROC area\n",
    "lw=1\n",
    "# First aggregate all false positive rates\n",
    "all_fpr = np.unique(np.concatenate([fpr[i] for i in range(n_classes)]))\n",
    "\n",
    "# Then interpolate all ROC curves at this points\n",
    "mean_tpr = np.zeros_like(all_fpr)\n",
    "for i in range(n_classes):\n",
    "    mean_tpr += interp(all_fpr, fpr[i], tpr[i])\n",
    "\n",
    "# Finally average it and compute AUC\n",
    "mean_tpr /= n_classes\n",
    "\n",
    "fpr[\"macro\"] = all_fpr\n",
    "tpr[\"macro\"] = mean_tpr\n",
    "roc_auc[\"macro\"] = auc(fpr[\"macro\"], tpr[\"macro\"])\n",
    "\n",
    "# Plot all ROC curves\n",
    "plt.figure()\n",
    "plt.plot(fpr[\"micro\"], tpr[\"micro\"],\n",
    "         label='micro-average ROC curve (area = {0:0.2f})'\n",
    "               ''.format(roc_auc[\"micro\"]),\n",
    "         color='deeppink', linestyle=':', linewidth=4)\n",
    "\n",
    "plt.plot(fpr[\"macro\"], tpr[\"macro\"],\n",
    "         label='macro-average ROC curve (area = {0:0.2f})'\n",
    "               ''.format(roc_auc[\"macro\"]),\n",
    "         color='navy', linestyle=':', linewidth=4)\n",
    "\n",
    "colors = cycle(['aqua', 'darkorange', 'cornflowerblue'])\n",
    "for i, color in zip(range(n_classes), colors):\n",
    "    plt.plot(fpr[i], tpr[i], color=color, lw=lw,\n",
    "             label='ROC curve of class {0} (area = {1:0.2f})'\n",
    "             ''.format(i, roc_auc[i]))\n",
    "\n",
    "plt.plot([0, 1], [0, 1], 'k--', lw=lw)\n",
    "plt.xlim([0.0, 1.0])\n",
    "plt.ylim([0.0, 1.05])\n",
    "plt.xlabel('False Positive Rate')\n",
    "plt.ylabel('True Positive Rate')\n",
    "plt.title('Some extension of Receiver operating characteristic to multi-class')\n",
    "plt.legend(loc=\"lower right\")\n",
    "plt.show()"
   ]
  },
  {
   "cell_type": "code",
   "execution_count": null,
   "metadata": {},
   "outputs": [],
   "source": [
    " "
   ]
  }
 ],
 "metadata": {
  "kernelspec": {
   "display_name": "Python 3",
   "language": "python",
   "name": "python3"
  },
  "language_info": {
   "codemirror_mode": {
    "name": "ipython",
    "version": 3
   },
   "file_extension": ".py",
   "mimetype": "text/x-python",
   "name": "python",
   "nbconvert_exporter": "python",
   "pygments_lexer": "ipython3",
   "version": "3.7.1"
  }
 },
 "nbformat": 4,
 "nbformat_minor": 2
}
