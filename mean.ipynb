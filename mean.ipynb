{
 "cells": [
  {
   "cell_type": "code",
   "execution_count": 1,
   "metadata": {},
   "outputs": [],
   "source": [
    "import pandas\n",
    "from sklearn.model_selection import cross_val_score\n",
    "from sklearn.model_selection import KFold\n",
    "from sklearn.preprocessing import LabelEncoder\n",
    "from sklearn.pipeline import Pipeline"
   ]
  },
  {
   "cell_type": "code",
   "execution_count": 2,
   "metadata": {},
   "outputs": [
    {
     "name": "stdout",
     "output_type": "stream",
     "text": [
      "      Male  Female  Infant   Length  Diameter    Height  Whole_weight  \\\n",
      "0        1       0       0  0.45500    0.3650  0.095000      0.514000   \n",
      "1        1       0       0  0.35000    0.2650  0.090000      0.225500   \n",
      "2        0       1       0  0.53000    0.4200  0.135000      0.677000   \n",
      "3        1       0       0  0.44000    0.3650  0.125000      0.516000   \n",
      "4        0       0       1  0.33000    0.2550  0.080000      0.205000   \n",
      "5        0       0       1  0.42500    0.3000  0.095000      0.351500   \n",
      "6        0       1       0  0.53000    0.4150  0.150000      0.777500   \n",
      "7        0       1       0  0.54500    0.4250  0.125000      0.768000   \n",
      "8        1       0       0  0.47500    0.3700  0.125000      0.509500   \n",
      "9        0       1       0  0.55000    0.4400  0.139719      0.894500   \n",
      "10       0       1       0  0.52500    0.4074  0.140000      0.606500   \n",
      "11       1       0       0  0.43000    0.3500  0.110000      0.406000   \n",
      "12       1       0       0  0.49000    0.3800  0.135000      0.541500   \n",
      "13       0       1       0  0.53500    0.4074  0.145000      0.684500   \n",
      "14       0       1       0  0.47000    0.3550  0.100000      0.475500   \n",
      "15       1       0       0  0.52381    0.4000  0.130000      0.664500   \n",
      "16       0       0       1  0.35500    0.2800  0.085000      0.290500   \n",
      "17       0       1       0  0.44000    0.3400  0.100000      0.451000   \n",
      "18       1       0       0  0.52381    0.2950  0.080000      0.255500   \n",
      "19       1       0       0  0.45000    0.3200  0.100000      0.381000   \n",
      "20       1       0       0  0.52381    0.2800  0.095000      0.245500   \n",
      "21       0       0       1  0.38000    0.2750  0.100000      0.225500   \n",
      "22       0       1       0  0.56500    0.4400  0.155000      0.939500   \n",
      "23       0       1       0  0.55000    0.4150  0.139719      0.763500   \n",
      "24       0       1       0  0.61500    0.4800  0.165000      1.161500   \n",
      "25       0       1       0  0.56000    0.4400  0.140000      0.928500   \n",
      "26       0       1       0  0.52381    0.4500  0.185000      0.828341   \n",
      "27       1       0       0  0.59000    0.4450  0.140000      0.828341   \n",
      "28       1       0       0  0.60500    0.4074  0.180000      0.936500   \n",
      "29       1       0       0  0.57500    0.4250  0.140000      0.863500   \n",
      "...    ...     ...     ...      ...       ...       ...           ...   \n",
      "4147     1       0       0  0.69500    0.5500  0.195000      1.664500   \n",
      "4148     1       0       0  0.77000    0.6050  0.175000      2.050500   \n",
      "4149     0       0       1  0.28000    0.2150  0.070000      0.124000   \n",
      "4150     0       0       1  0.33000    0.2300  0.080000      0.140000   \n",
      "4151     0       0       1  0.35000    0.2500  0.075000      0.169500   \n",
      "4152     0       0       1  0.37000    0.4074  0.090000      0.218000   \n",
      "4153     0       0       1  0.43000    0.3150  0.115000      0.384000   \n",
      "4154     0       0       1  0.52381    0.3300  0.095000      0.393000   \n",
      "4155     0       0       1  0.44000    0.3500  0.110000      0.380500   \n",
      "4156     1       0       0  0.47500    0.3700  0.110000      0.489500   \n",
      "4157     1       0       0  0.52381    0.3600  0.140000      0.513500   \n",
      "4158     0       0       1  0.48000    0.3550  0.110000      0.449500   \n",
      "4159     0       1       0  0.56000    0.4400  0.135000      0.802500   \n",
      "4160     0       1       0  0.58500    0.4750  0.165000      1.053000   \n",
      "4161     0       1       0  0.58500    0.4550  0.170000      0.994500   \n",
      "4162     1       0       0  0.38500    0.2550  0.100000      0.317500   \n",
      "4163     0       0       1  0.39000    0.3100  0.085000      0.344000   \n",
      "4164     0       0       1  0.39000    0.2900  0.100000      0.284500   \n",
      "4165     0       0       1  0.40500    0.3000  0.085000      0.303500   \n",
      "4166     0       0       1  0.47500    0.3650  0.115000      0.499000   \n",
      "4167     1       0       0  0.50000    0.3800  0.125000      0.577000   \n",
      "4168     0       1       0  0.51500    0.4074  0.125000      0.615000   \n",
      "4169     1       0       0  0.52000    0.3850  0.165000      0.791000   \n",
      "4170     1       0       0  0.55000    0.4300  0.130000      0.839500   \n",
      "4171     1       0       0  0.56000    0.4300  0.155000      0.867500   \n",
      "4172     0       1       0  0.56500    0.4500  0.165000      0.887000   \n",
      "4173     1       0       0  0.59000    0.4400  0.139719      0.966000   \n",
      "4174     1       0       0  0.60000    0.4750  0.205000      1.176000   \n",
      "4175     0       1       0  0.62500    0.4850  0.150000      1.094500   \n",
      "4176     1       0       0  0.71000    0.5550  0.195000      1.948500   \n",
      "\n",
      "      Shucked_weight  Viscera_weight  Shell_weight  \n",
      "0           0.224500        0.101000       0.15000  \n",
      "1           0.099500        0.048500       0.07000  \n",
      "2           0.256500        0.141500       0.21000  \n",
      "3           0.215500        0.114000       0.15500  \n",
      "4           0.089500        0.039500       0.05500  \n",
      "5           0.141000        0.077500       0.12000  \n",
      "6           0.237000        0.141500       0.33000  \n",
      "7           0.294000        0.149500       0.26000  \n",
      "8           0.216500        0.112500       0.16500  \n",
      "9           0.314500        0.151000       0.32000  \n",
      "10          0.194000        0.147500       0.21000  \n",
      "11          0.167500        0.081000       0.13500  \n",
      "12          0.217500        0.095000       0.19000  \n",
      "13          0.272500        0.171000       0.20500  \n",
      "14          0.167500        0.180722       0.18500  \n",
      "15          0.258000        0.133000       0.24000  \n",
      "16          0.095000        0.039500       0.11500  \n",
      "17          0.188000        0.087000       0.13000  \n",
      "18          0.097000        0.180722       0.10000  \n",
      "19          0.170500        0.075000       0.11500  \n",
      "20          0.095500        0.062000       0.07500  \n",
      "21          0.080000        0.049000       0.08500  \n",
      "22          0.427500        0.214000       0.27000  \n",
      "23          0.318000        0.210000       0.20000  \n",
      "24          0.513000        0.301000       0.30500  \n",
      "25          0.382500        0.188000       0.30000  \n",
      "26          0.394500        0.272000       0.28500  \n",
      "27          0.356000        0.234000       0.28000  \n",
      "28          0.394000        0.219000       0.29500  \n",
      "29          0.393000        0.227000       0.20000  \n",
      "...              ...             ...           ...  \n",
      "4147        0.727000        0.360000       0.44500  \n",
      "4148        0.800500        0.526000       0.35500  \n",
      "4149        0.063000        0.021500       0.03000  \n",
      "4150        0.056500        0.180722       0.04600  \n",
      "4151        0.083500        0.035500       0.04100  \n",
      "4152        0.099500        0.054500       0.06150  \n",
      "4153        0.188500        0.071500       0.11000  \n",
      "4154        0.219000        0.075000       0.08850  \n",
      "4155        0.157500        0.089500       0.11500  \n",
      "4156        0.218500        0.107000       0.14600  \n",
      "4157        0.241000        0.104500       0.15500  \n",
      "4158        0.201000        0.089000       0.23858  \n",
      "4159        0.359643        0.161500       0.25900  \n",
      "4160        0.458000        0.217000       0.30000  \n",
      "4161        0.425500        0.263000       0.28450  \n",
      "4162        0.137000        0.068000       0.09200  \n",
      "4163        0.181000        0.069500       0.07900  \n",
      "4164        0.125500        0.063500       0.08100  \n",
      "4165        0.150000        0.050500       0.08800  \n",
      "4166        0.232000        0.088500       0.15600  \n",
      "4167        0.359643        0.126500       0.23858  \n",
      "4168        0.286500        0.123000       0.23858  \n",
      "4169        0.375000        0.180000       0.18150  \n",
      "4170        0.315500        0.180722       0.24050  \n",
      "4171        0.400000        0.172000       0.22900  \n",
      "4172        0.370000        0.239000       0.23858  \n",
      "4173        0.439000        0.214500       0.26050  \n",
      "4174        0.525500        0.287500       0.30800  \n",
      "4175        0.531000        0.261000       0.29600  \n",
      "4176        0.945500        0.180722       0.49500  \n",
      "\n",
      "[4177 rows x 10 columns]\n",
      "0       3\n",
      "1       2\n",
      "2       2\n",
      "3       2\n",
      "4       2\n",
      "5       2\n",
      "6       4\n",
      "7       3\n",
      "8       2\n",
      "9       4\n",
      "10      3\n",
      "11      2\n",
      "12      2\n",
      "13      2\n",
      "14      2\n",
      "15      2\n",
      "16      2\n",
      "17      2\n",
      "18      2\n",
      "19      2\n",
      "20      2\n",
      "21      2\n",
      "22      2\n",
      "23      2\n",
      "24      2\n",
      "25      2\n",
      "26      2\n",
      "27      2\n",
      "28      3\n",
      "29      2\n",
      "       ..\n",
      "4147    2\n",
      "4148    2\n",
      "4149    1\n",
      "4150    2\n",
      "4151    1\n",
      "4152    2\n",
      "4153    2\n",
      "4154    1\n",
      "4155    1\n",
      "4156    2\n",
      "4157    2\n",
      "4158    2\n",
      "4159    2\n",
      "4160    2\n",
      "4161    2\n",
      "4162    2\n",
      "4163    2\n",
      "4164    2\n",
      "4165    2\n",
      "4166    2\n",
      "4167    2\n",
      "4168    2\n",
      "4169    2\n",
      "4170    2\n",
      "4171    2\n",
      "4172    2\n",
      "4173    2\n",
      "4174    2\n",
      "4175    2\n",
      "4176    2\n",
      "Name: Rings, Length: 4177, dtype: int64\n"
     ]
    }
   ],
   "source": [
    "data = pandas.read_csv(\"mean_data.csv\")\n",
    "cl=data.columns\n",
    "X=data[cl[1:len(cl)-1]]\n",
    "y=data['Rings']\n",
    "print(X)\n",
    "print(y)"
   ]
  },
  {
   "cell_type": "code",
   "execution_count": 3,
   "metadata": {},
   "outputs": [
    {
     "name": "stdout",
     "output_type": "stream",
     "text": [
      "0.7679425837320574\n",
      "[[ 73  74   0   0]\n",
      " [ 15 890   0   0]\n",
      " [  1 173   0   0]\n",
      " [  0  28   0   0]]\n"
     ]
    }
   ],
   "source": [
    "from sklearn.metrics import confusion_matrix \n",
    "from sklearn.model_selection import train_test_split\n",
    "from sklearn import model_selection\n",
    "\n",
    "# dividing X, y into train and test data \n",
    "X_train, X_test, y_train, y_test = train_test_split(X, y,  train_size=0.7, test_size=0.3, random_state=123) \n",
    "  \n",
    "# training a linear SVM classifier \n",
    "from sklearn.svm import SVC \n",
    "svm_model_linear = SVC(kernel = 'linear', C = 1).fit(X_train, y_train) \n",
    "svm_predictions = svm_model_linear.predict(X_test) \n",
    "  \n",
    "# model accuracy for X_test   \n",
    "accuracy = svm_model_linear.score(X_test, y_test) \n",
    "print(accuracy)  \n",
    "# creating a confusion matrix \n",
    "cm = confusion_matrix(y_test, svm_predictions) \n",
    "print(cm)\n",
    "\n"
   ]
  },
  {
   "cell_type": "code",
   "execution_count": 4,
   "metadata": {},
   "outputs": [
    {
     "name": "stdout",
     "output_type": "stream",
     "text": [
      "0.7535885167464115\n",
      "[[ 90  57   0   0]\n",
      " [ 50 855   0   0]\n",
      " [  2 172   0   0]\n",
      " [  0  28   0   0]]\n"
     ]
    }
   ],
   "source": [
    "from sklearn.tree import DecisionTreeClassifier \n",
    "dtree_model = DecisionTreeClassifier(max_depth = 2).fit(X_train, y_train) \n",
    "dtree_predictions = dtree_model.predict(X_test) \n",
    "accuracy = dtree_model.score(X_test, y_test) \n",
    "print(accuracy)\n",
    "# creating a confusion matrix \n",
    "cm = confusion_matrix(y_test, dtree_predictions) \n",
    "print(cm)"
   ]
  },
  {
   "cell_type": "code",
   "execution_count": 5,
   "metadata": {},
   "outputs": [
    {
     "name": "stdout",
     "output_type": "stream",
     "text": [
      "0.7575757575757576\n",
      "[[ 79  67   1   0]\n",
      " [ 32 851  22   0]\n",
      " [  0 154  20   0]\n",
      " [  0  24   4   0]]\n"
     ]
    }
   ],
   "source": [
    "# training a KNN classifier \n",
    "from sklearn.neighbors import KNeighborsClassifier \n",
    "knn = KNeighborsClassifier(n_neighbors = 15).fit(X_train, y_train) \n",
    "  \n",
    "# accuracy on X_test \n",
    "accuracy = knn.score(X_test, y_test) \n",
    "print(accuracy) \n",
    "  \n",
    "# creating a confusion matrix \n",
    "knn_predictions = knn.predict(X_test)  \n",
    "cm = confusion_matrix(y_test, knn_predictions) \n",
    "print(cm)"
   ]
  },
  {
   "cell_type": "code",
   "execution_count": 6,
   "metadata": {},
   "outputs": [
    {
     "name": "stdout",
     "output_type": "stream",
     "text": [
      "0.4569377990430622\n",
      "[[134  12   0   0   1]\n",
      " [162 434  23   0 286]\n",
      " [  6  81   5   0  82]\n",
      " [  0   8   0   0  20]\n",
      " [  0   0   0   0   0]]\n"
     ]
    }
   ],
   "source": [
    "# training a Naive Bayes classifier \n",
    "from sklearn.naive_bayes import GaussianNB \n",
    "gnb = GaussianNB().fit(X_train, y_train) \n",
    "gnb_predictions = gnb.predict(X_test) \n",
    "  \n",
    "# accuracy on X_test \n",
    "accuracy = gnb.score(X_test, y_test) \n",
    "print(accuracy) \n",
    "  \n",
    "# creating a confusion matrix \n",
    "cm = confusion_matrix(y_test, gnb_predictions) \n",
    "print(cm)"
   ]
  },
  {
   "cell_type": "code",
   "execution_count": 7,
   "metadata": {},
   "outputs": [],
   "source": [
    "from sklearn.ensemble import AdaBoostClassifier\n",
    "from sklearn import datasets\n",
    "# Import train_test_split function\n",
    "from sklearn.model_selection import train_test_split\n",
    "#Import scikit-learn metrics module for accuracy calculation\n",
    "from sklearn import metrics"
   ]
  },
  {
   "cell_type": "code",
   "execution_count": 8,
   "metadata": {},
   "outputs": [],
   "source": [
    "# Create adaboost classifer object\n",
    "abc = AdaBoostClassifier(n_estimators=50,\n",
    "                         learning_rate=1)\n",
    "# Train Adaboost Classifer\n",
    "model = abc.fit(X_train, y_train)\n",
    "\n",
    "#Predict the response for test dataset\n",
    "y_pred = model.predict(X_test)"
   ]
  },
  {
   "cell_type": "code",
   "execution_count": 9,
   "metadata": {},
   "outputs": [
    {
     "name": "stdout",
     "output_type": "stream",
     "text": [
      "Accuracy: 0.6499202551834131\n"
     ]
    }
   ],
   "source": [
    "print(\"Accuracy:\",metrics.accuracy_score(y_test, y_pred))"
   ]
  },
  {
   "cell_type": "code",
   "execution_count": 10,
   "metadata": {},
   "outputs": [
    {
     "name": "stdout",
     "output_type": "stream",
     "text": [
      "Accuracy: 0.7216905901116427\n"
     ]
    }
   ],
   "source": [
    "# Load libraries\n",
    "from sklearn.ensemble import AdaBoostClassifier\n",
    "\n",
    "# Import Support Vector Classifier\n",
    "from sklearn.svm import SVC\n",
    "#Import scikit-learn metrics module for accuracy calculation\n",
    "from sklearn import metrics\n",
    "svc=SVC(probability=True, kernel='linear')\n",
    "\n",
    "# Create adaboost classifer object\n",
    "abc =AdaBoostClassifier(n_estimators=50, base_estimator=svc,learning_rate=1)\n",
    "\n",
    "# Train Adaboost Classifer\n",
    "model = abc.fit(X_train, y_train)\n",
    "\n",
    "#Predict the response for test dataset\n",
    "y_pred = model.predict(X_test)\n",
    "\n",
    "\n",
    "# Model Accuracy, how often is the classifier correct?\n",
    "print(\"Accuracy:\",metrics.accuracy_score(y_test, y_pred))"
   ]
  },
  {
   "cell_type": "code",
   "execution_count": 11,
   "metadata": {},
   "outputs": [
    {
     "name": "stdout",
     "output_type": "stream",
     "text": [
      "[1 2 3 4 5]\n"
     ]
    }
   ],
   "source": [
    "import numpy as np\n",
    "print(np.unique(y))\n",
    "#One Hot Encode our Y:\n",
    "from sklearn.preprocessing import LabelBinarizer\n",
    "encoder = LabelBinarizer()\n",
    "Y = encoder.fit_transform(y_train)\n"
   ]
  },
  {
   "cell_type": "code",
   "execution_count": 12,
   "metadata": {},
   "outputs": [],
   "source": [
    "# Import train_test_split function\n",
    "#from sklearn.cross_validation import train_test_split\n",
    "# Split dataset into features and labels\n",
    "X1=data[['Length','Diameter','Height','Whole_weight','Shucked_weight','Viscera_weight','Shell_weight']]  \n",
    "y1=data['Rings']                                       \n",
    "# Split dataset into training set and test set\n",
    "X_train1, X_test1, y_train1, y_test1 = train_test_split(X1, y1,  train_size=0.7, test_size=0.3, random_state=123)  "
   ]
  },
  {
   "cell_type": "code",
   "execution_count": 13,
   "metadata": {},
   "outputs": [
    {
     "name": "stderr",
     "output_type": "stream",
     "text": [
      "C:\\ProgramData\\Anaconda3\\lib\\site-packages\\sklearn\\svm\\base.py:196: FutureWarning: The default value of gamma will change from 'auto' to 'scale' in version 0.22 to account better for unscaled features. Set gamma explicitly to 'auto' or 'scale' to avoid this warning.\n",
      "  \"avoid this warning.\", FutureWarning)\n"
     ]
    },
    {
     "name": "stdout",
     "output_type": "stream",
     "text": [
      "[[  0 147   0   0]\n",
      " [  0 905   0   0]\n",
      " [  0 174   0   0]\n",
      " [  0  28   0   0]]\n",
      "              precision    recall  f1-score   support\n",
      "\n",
      "           1       0.00      0.00      0.00       147\n",
      "           2       0.72      1.00      0.84       905\n",
      "           3       0.00      0.00      0.00       174\n",
      "           4       0.00      0.00      0.00        28\n",
      "\n",
      "   micro avg       0.72      0.72      0.72      1254\n",
      "   macro avg       0.18      0.25      0.21      1254\n",
      "weighted avg       0.52      0.72      0.61      1254\n",
      "\n"
     ]
    },
    {
     "name": "stderr",
     "output_type": "stream",
     "text": [
      "C:\\ProgramData\\Anaconda3\\lib\\site-packages\\sklearn\\metrics\\classification.py:1143: UndefinedMetricWarning: Precision and F-score are ill-defined and being set to 0.0 in labels with no predicted samples.\n",
      "  'precision', 'predicted', average, warn_for)\n"
     ]
    }
   ],
   "source": [
    "from sklearn.svm import SVC\n",
    "svclassifier = SVC(kernel='poly', degree=8)\n",
    "svclassifier.fit(X_train, y_train)\n",
    "y_pred = svclassifier.predict(X_test)\n",
    "from sklearn.metrics import classification_report, confusion_matrix\n",
    "print(confusion_matrix(y_test, y_pred))\n",
    "print(classification_report(y_test, y_pred))"
   ]
  },
  {
   "cell_type": "code",
   "execution_count": 14,
   "metadata": {},
   "outputs": [
    {
     "name": "stderr",
     "output_type": "stream",
     "text": [
      "C:\\ProgramData\\Anaconda3\\lib\\site-packages\\sklearn\\svm\\base.py:196: FutureWarning: The default value of gamma will change from 'auto' to 'scale' in version 0.22 to account better for unscaled features. Set gamma explicitly to 'auto' or 'scale' to avoid this warning.\n",
      "  \"avoid this warning.\", FutureWarning)\n"
     ]
    },
    {
     "name": "stdout",
     "output_type": "stream",
     "text": [
      "[[ 67  80   0   0]\n",
      " [ 13 892   0   0]\n",
      " [  0 174   0   0]\n",
      " [  0  28   0   0]]\n",
      "              precision    recall  f1-score   support\n",
      "\n",
      "           1       0.84      0.46      0.59       147\n",
      "           2       0.76      0.99      0.86       905\n",
      "           3       0.00      0.00      0.00       174\n",
      "           4       0.00      0.00      0.00        28\n",
      "\n",
      "   micro avg       0.76      0.76      0.76      1254\n",
      "   macro avg       0.40      0.36      0.36      1254\n",
      "weighted avg       0.65      0.76      0.69      1254\n",
      "\n",
      "0.7647527910685805\n"
     ]
    },
    {
     "name": "stderr",
     "output_type": "stream",
     "text": [
      "C:\\ProgramData\\Anaconda3\\lib\\site-packages\\sklearn\\metrics\\classification.py:1143: UndefinedMetricWarning: Precision and F-score are ill-defined and being set to 0.0 in labels with no predicted samples.\n",
      "  'precision', 'predicted', average, warn_for)\n"
     ]
    }
   ],
   "source": [
    "from sklearn.svm import SVC\n",
    "svclassifier = SVC(kernel='rbf')\n",
    "svclassifier.fit(X_train, y_train)\n",
    "y_pred = svclassifier.predict(X_test)\n",
    "from sklearn.metrics import classification_report, confusion_matrix\n",
    "print(confusion_matrix(y_test, y_pred))\n",
    "print(classification_report(y_test, y_pred))\n",
    "accuracy = svclassifier.score(X_test, y_test) \n",
    "print(accuracy)  "
   ]
  },
  {
   "cell_type": "code",
   "execution_count": 15,
   "metadata": {},
   "outputs": [
    {
     "name": "stderr",
     "output_type": "stream",
     "text": [
      "C:\\ProgramData\\Anaconda3\\lib\\site-packages\\sklearn\\svm\\base.py:196: FutureWarning: The default value of gamma will change from 'auto' to 'scale' in version 0.22 to account better for unscaled features. Set gamma explicitly to 'auto' or 'scale' to avoid this warning.\n",
      "  \"avoid this warning.\", FutureWarning)\n"
     ]
    },
    {
     "name": "stdout",
     "output_type": "stream",
     "text": [
      "[[ 37 110   0   0]\n",
      " [  5 884  16   0]\n",
      " [  0 166   8   0]\n",
      " [  0  24   4   0]]\n",
      "              precision    recall  f1-score   support\n",
      "\n",
      "           1       0.88      0.25      0.39       147\n",
      "           2       0.75      0.98      0.85       905\n",
      "           3       0.29      0.05      0.08       174\n",
      "           4       0.00      0.00      0.00        28\n",
      "\n",
      "   micro avg       0.74      0.74      0.74      1254\n",
      "   macro avg       0.48      0.32      0.33      1254\n",
      "weighted avg       0.68      0.74      0.67      1254\n",
      "\n",
      "0.740829346092504\n"
     ]
    },
    {
     "name": "stderr",
     "output_type": "stream",
     "text": [
      "C:\\ProgramData\\Anaconda3\\lib\\site-packages\\sklearn\\metrics\\classification.py:1143: UndefinedMetricWarning: Precision and F-score are ill-defined and being set to 0.0 in labels with no predicted samples.\n",
      "  'precision', 'predicted', average, warn_for)\n"
     ]
    }
   ],
   "source": [
    "from sklearn.svm import SVC\n",
    "svclassifier = SVC(kernel='sigmoid')\n",
    "svclassifier.fit(X_train, y_train)\n",
    "y_pred = svclassifier.predict(X_test)\n",
    "from sklearn.metrics import classification_report, confusion_matrix\n",
    "print(confusion_matrix(y_test, y_pred))\n",
    "print(classification_report(y_test, y_pred))\n",
    "accuracy = svclassifier.score(X_test, y_test) \n",
    "print(accuracy)  "
   ]
  },
  {
   "cell_type": "code",
   "execution_count": 16,
   "metadata": {},
   "outputs": [
    {
     "name": "stderr",
     "output_type": "stream",
     "text": [
      "C:\\ProgramData\\Anaconda3\\lib\\site-packages\\sklearn\\multiclass.py:76: UserWarning: Label not 4 is present in all training examples.\n",
      "  str(classes[c]))\n"
     ]
    }
   ],
   "source": [
    "import numpy as np\n",
    "import matplotlib.pyplot as plt\n",
    "from itertools import cycle\n",
    "\n",
    "from sklearn import svm, datasets\n",
    "from sklearn.metrics import roc_curve, auc\n",
    "from sklearn.model_selection import train_test_split\n",
    "from sklearn.preprocessing import label_binarize\n",
    "from sklearn.multiclass import OneVsRestClassifier\n",
    "from scipy import interp\n",
    "\n",
    "# Import some data to play with\n",
    "X=data[cl[1:len(cl)-1]]\n",
    "y=data['Rings']\n",
    "\n",
    "# Binarize the output\n",
    "y = label_binarize(y, classes=[1,2,3,4,5])\n",
    "n_classes = y.shape[1]\n",
    "\n",
    "# Add noisy features to make the problem harder\n",
    "random_state = np.random.RandomState(0)\n",
    "n_samples, n_features = X.shape\n",
    "X = np.c_[X, random_state.randn(n_samples, 200 * n_features)]\n",
    "\n",
    "# shuffle and split training and test sets\n",
    "X_train, X_test, y_train, y_test = train_test_split(X, y, test_size=.5,\n",
    "                                                    random_state=0)\n",
    "\n",
    "# Learn to predict each class against the other\n",
    "classifier = OneVsRestClassifier(svm.SVC(kernel='linear', probability=True,\n",
    "                                 random_state=random_state))\n",
    "y_score = classifier.fit(X_train, y_train).decision_function(X_test)\n",
    "\n",
    "# Compute ROC curve and ROC area for each class\n",
    "fpr = dict()\n",
    "tpr = dict()\n",
    "roc_auc = dict()\n",
    "for i in range(n_classes):\n",
    "    fpr[i], tpr[i], _ = roc_curve(y_test[:, i], y_score[:, i])\n",
    "    roc_auc[i] = auc(fpr[i], tpr[i])\n",
    "\n",
    "# Compute micro-average ROC curve and ROC area\n",
    "fpr[\"micro\"], tpr[\"micro\"], _ = roc_curve(y_test.ravel(), y_score.ravel())\n",
    "roc_auc[\"micro\"] = auc(fpr[\"micro\"], tpr[\"micro\"])"
   ]
  },
  {
   "cell_type": "code",
   "execution_count": 17,
   "metadata": {},
   "outputs": [
    {
     "data": {
      "image/png": "[encoded data removed]",
      "text/plain": [
       "<Figure size 432x288 with 1 Axes>"
      ]
     },
     "metadata": {
      "needs_background": "light"
     },
     "output_type": "display_data"
    }
   ],
   "source": [
    "# Compute macro-average ROC curve and ROC area\n",
    "lw=1\n",
    "# First aggregate all false positive rates\n",
    "all_fpr = np.unique(np.concatenate([fpr[i] for i in range(n_classes)]))\n",
    "\n",
    "# Then interpolate all ROC curves at this points\n",
    "mean_tpr = np.zeros_like(all_fpr)\n",
    "for i in range(n_classes):\n",
    "    mean_tpr += interp(all_fpr, fpr[i], tpr[i])\n",
    "\n",
    "# Finally average it and compute AUC\n",
    "mean_tpr /= n_classes\n",
    "\n",
    "fpr[\"macro\"] = all_fpr\n",
    "tpr[\"macro\"] = mean_tpr\n",
    "roc_auc[\"macro\"] = auc(fpr[\"macro\"], tpr[\"macro\"])\n",
    "\n",
    "# Plot all ROC curves\n",
    "plt.figure()\n",
    "plt.plot(fpr[\"micro\"], tpr[\"micro\"],\n",
    "         label='micro-average ROC curve (area = {0:0.2f})'\n",
    "               ''.format(roc_auc[\"micro\"]),\n",
    "         color='deeppink', linestyle=':', linewidth=4)\n",
    "\n",
    "plt.plot(fpr[\"macro\"], tpr[\"macro\"],\n",
    "         label='macro-average ROC curve (area = {0:0.2f})'\n",
    "               ''.format(roc_auc[\"macro\"]),\n",
    "         color='navy', linestyle=':', linewidth=4)\n",
    "\n",
    "colors = cycle(['aqua', 'darkorange', 'cornflowerblue'])\n",
    "for i, color in zip(range(n_classes), colors):\n",
    "    plt.plot(fpr[i], tpr[i], color=color, lw=lw,\n",
    "             label='ROC curve of class {0} (area = {1:0.2f})'\n",
    "             ''.format(i, roc_auc[i]))\n",
    "\n",
    "plt.plot([0, 1], [0, 1], 'k--', lw=lw)\n",
    "plt.xlim([0.0, 1.0])\n",
    "plt.ylim([0.0, 1.05])\n",
    "plt.xlabel('False Positive Rate')\n",
    "plt.ylabel('True Positive Rate')\n",
    "plt.title('Some extension of Receiver operating characteristic to multi-class')\n",
    "plt.legend(loc=\"lower right\")\n",
    "plt.show()"
   ]
  },
  {
   "cell_type": "code",
   "execution_count": null,
   "metadata": {},
   "outputs": [],
   "source": []
  },
  {
   "cell_type": "code",
   "execution_count": null,
   "metadata": {},
   "outputs": [],
   "source": []
  }
 ],
 "metadata": {
  "kernelspec": {
   "display_name": "Python 3",
   "language": "python",
   "name": "python3"
  },
  "language_info": {
   "codemirror_mode": {
    "name": "ipython",
    "version": 3
   },
   "file_extension": ".py",
   "mimetype": "text/x-python",
   "name": "python",
   "nbconvert_exporter": "python",
   "pygments_lexer": "ipython3",
   "version": "3.7.1"
  }
 },
 "nbformat": 4,
 "nbformat_minor": 2
}
